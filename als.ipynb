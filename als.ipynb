{
 "cells": [
  {
   "cell_type": "code",
   "execution_count": 1,
   "id": "53f4ade3",
   "metadata": {},
   "outputs": [],
   "source": [
    "import os\n",
    "import sys\n",
    "from pyspark.rdd import RDD\n",
    "from pyspark.sql import Row\n",
    "from pyspark.sql import DataFrame\n",
    "from pyspark.sql import SparkSession\n",
    "#add the following two in order to use avg\n",
    "from pyspark.sql.types import *\n",
    "from pyspark.sql.functions import *\n",
    "from pyspark.sql.functions import lit\n",
    "from pyspark.sql.functions import desc\n",
    "from pyspark.ml.evaluation import RegressionEvaluator\n",
    "from pyspark.ml.recommendation import ALS\n",
    "\n",
    "from pyspark.ml import Pipeline\n",
    "from pyspark.ml.feature import StringIndexer"
   ]
  },
  {
   "cell_type": "code",
   "execution_count": 2,
   "id": "058105af",
   "metadata": {},
   "outputs": [],
   "source": [
    "# Initialize a spark session.\n",
    "def init_spark():\n",
    "    spark = SparkSession \\\n",
    "        .builder \\\n",
    "        .appName(\"Python Spark SQL basic example\") \\\n",
    "        .config(\"spark.some.config.option\", \"some-value\") \\\n",
    "        .getOrCreate()\n",
    "    return spark"
   ]
  },
  {
   "cell_type": "code",
   "execution_count": 3,
   "id": "95a49620",
   "metadata": {},
   "outputs": [],
   "source": [
    "spark = init_spark() # Initializate spark"
   ]
  },
  {
   "cell_type": "code",
   "execution_count": 4,
   "id": "8d9cf174",
   "metadata": {},
   "outputs": [],
   "source": [
    "#reading the dataset and spilling on pyspark dataframe\n",
    "path = 'data/yelp_academic_dataset_review.json'\n",
    "df_review = spark.read.json(path).limit(100000)\n",
    "# df_review = spark.read.json(path)"
   ]
  },
  {
   "cell_type": "code",
   "execution_count": 5,
   "id": "9ce19009",
   "metadata": {},
   "outputs": [],
   "source": [
    "# from pyspark.sql.functions import col,isnan, when, count\n",
    "# df_review.select([count(when(isnan(c) | col(c).isNull(), c)).alias(c) for c in df_review.columns]\n",
    "#    ).show()"
   ]
  },
  {
   "cell_type": "code",
   "execution_count": 6,
   "id": "104215a8",
   "metadata": {},
   "outputs": [],
   "source": [
    "#we need userId, businessId and ratings for ALS\n",
    "df_review = df_review[['user_id','business_id','stars']]"
   ]
  },
  {
   "cell_type": "code",
   "execution_count": 8,
   "id": "48872418",
   "metadata": {},
   "outputs": [
    {
     "name": "stdout",
     "output_type": "stream",
     "text": [
      "+--------------------+--------------------+-----+-------------+-----------------+\n",
      "|             user_id|         business_id|stars|user_id_index|business_id_index|\n",
      "+--------------------+--------------------+-----+-------------+-----------------+\n",
      "|mh_-eMZ6K5RLWhZyI...|XQfwVwDr-v0ZS3_Cb...|  3.0|      10043.0|           1224.0|\n",
      "|OyoGAe7OKpv6SyGZT...|7ATYjTIgM3jUlt4UM...|  5.0|       7020.0|            658.0|\n",
      "|8g_iMtfSiwikVnbP2...|YjUWPpI6HXG530lwP...|  3.0|      21783.0|           1894.0|\n",
      "|_7bHUi9Uuf5__HHc_...|kxX2SOes4o-D3ZQBk...|  5.0|      50901.0|            562.0|\n",
      "|bcjbaE6dDog4jkNY9...|e4Vwtrqf-wpJfwesg...|  4.0|       3085.0|           2701.0|\n",
      "|eUta8W_HdHMXPzLBB...|04UD14gamNjLY0IDY...|  1.0|      56584.0|            364.0|\n",
      "|r3zeYsv1XFBRA4dJp...|gmjsEdUsKpj9Xxu6p...|  5.0|      69889.0|            153.0|\n",
      "|yfFzsLmaWF2d4Sr0U...|LHSTtnW3YHCeUkRDG...|  5.0|      77959.0|            835.0|\n",
      "|wSTuiTk-sKNdcFypr...|B5XSoSG3SfvQGtKEG...|  3.0|      75577.0|           4904.0|\n",
      "|59MxRhNVhU9MYndMk...|gebiRewfieSdtt17P...|  3.0|      18205.0|            129.0|\n",
      "|1WHRWwQmZOZDAhp2Q...|uMvVYRgGNXf5boolA...|  5.0|      14353.0|           7365.0|\n",
      "|ZbqSHbgCjzVAqaa7N...|EQ-TZ2eeD_E0BHuvo...|  4.0|      50334.0|             24.0|\n",
      "|9OAtfnWag-ajVxRbU...|lj-E32x9_FA7GmUrB...|  4.0|      22538.0|            277.0|\n",
      "|smOvOajNG0lS4Pq7d...|RZtGWDLCAtuipwaZ-...|  4.0|      71668.0|            209.0|\n",
      "|4Uh27DgGzsp6PqrH9...|otQS34_MymijPTdNB...|  4.0|       4547.0|            193.0|\n",
      "|1C2lxzUo1Hyye4RFI...|BVndHaLihEYbr76Z0...|  5.0|      14014.0|            865.0|\n",
      "|Dd1jQj7S-BFGqRbAp...|YtSqYv1Q_pOltsVPS...|  5.0|      27042.0|            302.0|\n",
      "|j2wlzrntrbKwyOcOi...|rBdG_23USc7DletfZ...|  4.0|       9619.0|            270.0|\n",
      "|NDZvyYHTUWWu-kqgQ...|CLEWowfkj-wKYJlQD...|  5.0|      36973.0|           2581.0|\n",
      "|IQsF3Rc6IgCzjVV9D...|eFvzHawVJofxSnD7T...|  5.0|      32068.0|            327.0|\n",
      "+--------------------+--------------------+-----+-------------+-----------------+\n",
      "only showing top 20 rows\n",
      "\n"
     ]
    }
   ],
   "source": [
    "indexers = [StringIndexer(inputCol=column, outputCol=column+\"_index\").fit(df_review) \n",
    "            for column in list(set(df_review.columns)-set(['stars'])) ]\n",
    "\n",
    "\n",
    "pipeline = Pipeline(stages=indexers)\n",
    "df_review = pipeline.fit(df_review).transform(df_review)\n",
    "\n",
    "df_review.show()"
   ]
  },
  {
   "cell_type": "code",
   "execution_count": 9,
   "id": "85a8c6e0",
   "metadata": {},
   "outputs": [
    {
     "data": {
      "text/plain": [
       "79345"
      ]
     },
     "execution_count": 9,
     "metadata": {},
     "output_type": "execute_result"
    }
   ],
   "source": [
    "df_review.select('user_id').distinct().count()"
   ]
  },
  {
   "cell_type": "code",
   "execution_count": 10,
   "id": "2993e734",
   "metadata": {},
   "outputs": [],
   "source": [
    "(df_train, df_test) = df_review.randomSplit([0.8, 0.2], seed=0)"
   ]
  },
  {
   "cell_type": "code",
   "execution_count": 11,
   "id": "b890f368",
   "metadata": {},
   "outputs": [
    {
     "name": "stdout",
     "output_type": "stream",
     "text": [
      "max iter: 8  regParam: 0.2  rank: 10  rmse: 1.85  mae: 1.51\n",
      "max iter: 8  regParam: 0.2  rank: 20  rmse: 1.85  mae: 1.53\n",
      "max iter: 8  regParam: 0.2  rank: 70  rmse: 1.85  mae: 1.54\n",
      "max iter: 8  regParam: 0.3  rank: 10  rmse: 1.80  mae: 1.46\n",
      "max iter: 8  regParam: 0.3  rank: 20  rmse: 1.80  mae: 1.49\n",
      "max iter: 8  regParam: 0.3  rank: 70  rmse: 1.82  mae: 1.50\n",
      "max iter: 8  regParam: 0.4  rank: 10  rmse: 1.79  mae: 1.46\n",
      "max iter: 8  regParam: 0.4  rank: 20  rmse: 1.80  mae: 1.48\n",
      "max iter: 8  regParam: 0.4  rank: 70  rmse: 1.81  mae: 1.50\n",
      "max iter: 8  regParam: 0.5  rank: 10  rmse: 1.80  mae: 1.48\n",
      "max iter: 8  regParam: 0.5  rank: 20  rmse: 1.81  mae: 1.50\n",
      "max iter: 8  regParam: 0.5  rank: 70  rmse: 1.82  mae: 1.52\n",
      "max iter: 10  regParam: 0.2  rank: 10  rmse: 1.80  mae: 1.47\n",
      "max iter: 10  regParam: 0.2  rank: 20  rmse: 1.80  mae: 1.48\n",
      "max iter: 10  regParam: 0.2  rank: 70  rmse: 1.80  mae: 1.49\n",
      "max iter: 10  regParam: 0.3  rank: 10  rmse: 1.76  mae: 1.43\n",
      "max iter: 10  regParam: 0.3  rank: 20  rmse: 1.77  mae: 1.45\n",
      "max iter: 10  regParam: 0.3  rank: 70  rmse: 1.78  mae: 1.46\n",
      "max iter: 10  regParam: 0.4  rank: 10  rmse: 1.76  mae: 1.43\n",
      "max iter: 10  regParam: 0.4  rank: 20  rmse: 1.77  mae: 1.45\n",
      "max iter: 10  regParam: 0.4  rank: 70  rmse: 1.78  mae: 1.46\n",
      "max iter: 10  regParam: 0.5  rank: 10  rmse: 1.77  mae: 1.45\n",
      "max iter: 10  regParam: 0.5  rank: 20  rmse: 1.78  mae: 1.47\n",
      "max iter: 10  regParam: 0.5  rank: 70  rmse: 1.79  mae: 1.48\n",
      "max iter: 13  regParam: 0.2  rank: 10  rmse: 1.77  mae: 1.43\n",
      "max iter: 13  regParam: 0.2  rank: 20  rmse: 1.76  mae: 1.44\n",
      "max iter: 13  regParam: 0.2  rank: 70  rmse: 1.76  mae: 1.45\n",
      "max iter: 13  regParam: 0.3  rank: 10  rmse: 1.74  mae: 1.40\n",
      "max iter: 13  regParam: 0.3  rank: 20  rmse: 1.74  mae: 1.42\n",
      "max iter: 13  regParam: 0.3  rank: 70  rmse: 1.75  mae: 1.43\n",
      "max iter: 13  regParam: 0.4  rank: 10  rmse: 1.73  mae: 1.40\n",
      "max iter: 13  regParam: 0.4  rank: 20  rmse: 1.74  mae: 1.42\n",
      "max iter: 13  regParam: 0.4  rank: 70  rmse: 1.75  mae: 1.43\n",
      "max iter: 13  regParam: 0.5  rank: 10  rmse: 1.74  mae: 1.42\n",
      "max iter: 13  regParam: 0.5  rank: 20  rmse: 1.75  mae: 1.43\n",
      "max iter: 13  regParam: 0.5  rank: 70  rmse: 1.76  mae: 1.44\n",
      "max iter: 17  regParam: 0.2  rank: 10  rmse: 1.74  mae: 1.40\n",
      "max iter: 17  regParam: 0.2  rank: 20  rmse: 1.74  mae: 1.42\n",
      "max iter: 17  regParam: 0.2  rank: 70  rmse: 1.74  mae: 1.42\n",
      "max iter: 17  regParam: 0.3  rank: 10  rmse: 1.72  mae: 1.39\n",
      "max iter: 17  regParam: 0.3  rank: 20  rmse: 1.72  mae: 1.40\n",
      "max iter: 17  regParam: 0.3  rank: 70  rmse: 1.73  mae: 1.41\n",
      "max iter: 17  regParam: 0.4  rank: 10  rmse: 1.71  mae: 1.39\n",
      "max iter: 17  regParam: 0.4  rank: 20  rmse: 1.72  mae: 1.40\n",
      "max iter: 17  regParam: 0.4  rank: 70  rmse: 1.73  mae: 1.41\n",
      "max iter: 17  regParam: 0.5  rank: 10  rmse: 1.72  mae: 1.39\n",
      "max iter: 17  regParam: 0.5  rank: 20  rmse: 1.73  mae: 1.41\n",
      "max iter: 17  regParam: 0.5  rank: 70  rmse: 1.73  mae: 1.42\n"
     ]
    }
   ],
   "source": [
    "#create evaluator object\n",
    "eval_rmse = RegressionEvaluator(metricName=\"rmse\", labelCol=\"stars\", predictionCol=\"prediction\")\n",
    "eval_mae = RegressionEvaluator(metricName=\"mae\", labelCol=\"stars\", predictionCol=\"prediction\")\n",
    "maxIter = [8,10,13,17]\n",
    "regParam = [0.2,0.3,0.4,0.5]\n",
    "rank = [10,20,70]\n",
    "#create the als model\n",
    "for mi in maxIter:\n",
    "    for rp in regParam:\n",
    "        for r in rank:\n",
    "            als = ALS(maxIter=mi, regParam=rp, rank=r, userCol=\"user_id_index\", \n",
    "                      itemCol=\"business_id_index\", \n",
    "                      ratingCol=\"stars\",seed=0, nonnegative=True, coldStartStrategy=\"drop\")\n",
    "            #fit the model on training set\n",
    "            recom_model = als.fit(df_train) \n",
    "            prediction = recom_model.transform(df_test)\n",
    "            rmse = eval_rmse.evaluate(prediction)\n",
    "            mae = eval_mae.evaluate(prediction)\n",
    "#             print('max iter:',mi, ' regParam:', rp, ' rank:', r, ' rmse:',rmse)\n",
    "            print('max iter: %d  regParam: %.1f  rank: %d  rmse: %.2f  mae: %.2f'%(mi,rp,r,rmse,mae))"
   ]
  }
 ],
 "metadata": {
  "kernelspec": {
   "display_name": "Python 3 (ipykernel)",
   "language": "python",
   "name": "python3"
  },
  "language_info": {
   "codemirror_mode": {
    "name": "ipython",
    "version": 3
   },
   "file_extension": ".py",
   "mimetype": "text/x-python",
   "name": "python",
   "nbconvert_exporter": "python",
   "pygments_lexer": "ipython3",
   "version": "3.8.0"
  }
 },
 "nbformat": 4,
 "nbformat_minor": 5
}
