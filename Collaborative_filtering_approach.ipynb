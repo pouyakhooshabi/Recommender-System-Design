{
 "cells": [
  {
   "cell_type": "markdown",
   "id": "5e1d52a7",
   "metadata": {},
   "source": [
    "# Applying ALS methods as collaborative filtering approach for yelp dataset\n",
    "In the follwoing, we use review dataset of yelp to create the sparse matrix and apply ALS approach to recommend restaurant to the users."
   ]
  },
  {
   "cell_type": "markdown",
   "id": "6cd4779e",
   "metadata": {},
   "source": [
    "## Importing required libraries"
   ]
  },
  {
   "cell_type": "code",
   "execution_count": 1,
   "id": "53f4ade3",
   "metadata": {},
   "outputs": [],
   "source": [
    "import os\n",
    "import sys\n",
    "from pyspark.rdd import RDD\n",
    "from pyspark.sql import Row\n",
    "from pyspark.sql import DataFrame\n",
    "from pyspark.sql import SparkSession\n",
    "#add the following two in order to use avg\n",
    "from pyspark.sql.types import *\n",
    "from pyspark.sql.functions import *\n",
    "from pyspark.sql.functions import lit\n",
    "from pyspark.sql.functions import desc\n",
    "from pyspark.sql.functions import col\n",
    "from pyspark.ml.evaluation import RegressionEvaluator\n",
    "from pyspark.ml.recommendation import ALS\n",
    "from pyspark.ml.tuning import ParamGridBuilder, TrainValidationSplit\n",
    "from pyspark.ml import Pipeline\n",
    "from pyspark.ml.feature import StringIndexer\n",
    "import matplotlib.pyplot as plt\n"
   ]
  },
  {
   "cell_type": "markdown",
   "id": "10abd44d",
   "metadata": {},
   "source": [
    "## Initializing Spark to use its dataframe as the main datastructure."
   ]
  },
  {
   "cell_type": "code",
   "execution_count": 2,
   "id": "058105af",
   "metadata": {},
   "outputs": [],
   "source": [
    "# Initialize a spark session.\n",
    "def init_spark():\n",
    "    spark = SparkSession \\\n",
    "        .builder \\\n",
    "        .appName(\"Python Spark SQL basic example\") \\\n",
    "        .config(\"spark.some.config.option\", \"some-value\") \\\n",
    "        .getOrCreate()\n",
    "    return spark"
   ]
  },
  {
   "cell_type": "code",
   "execution_count": 3,
   "id": "bfd94da8",
   "metadata": {},
   "outputs": [],
   "source": [
    "spark = init_spark() # Initializate spark"
   ]
  },
  {
   "cell_type": "markdown",
   "id": "6fa9456a",
   "metadata": {},
   "source": [
    "## Reading data from the source files\n",
    "In this part, we use review, user, business dataset. The main dataset that we are working on is the review.json but we use other two datasets to preprocess the data. With business dataset, we filter the businesses which are related to the restaurants and with the user dataset, we filter the users which contains less than 10 reviews."
   ]
  },
  {
   "cell_type": "code",
   "execution_count": 4,
   "id": "8d9cf174",
   "metadata": {},
   "outputs": [],
   "source": [
    "#reading the review dataset and spilling on pyspark dataframe\n",
    "path = 'data/yelp_academic_dataset_review.json'\n",
    "df_review = spark.read.json(path)\n",
    "# df_review = spark.read.json(path)"
   ]
  },
  {
   "cell_type": "code",
   "execution_count": 5,
   "id": "c30dcb5f",
   "metadata": {},
   "outputs": [],
   "source": [
    "df_review = df_review.sample(False, fraction=0.14, seed=0)"
   ]
  },
  {
   "cell_type": "code",
   "execution_count": 6,
   "id": "f7596f61",
   "metadata": {},
   "outputs": [],
   "source": [
    "#reading the buisiness dataset and spilling on pyspark dataframe\n",
    "path = 'data/yelp_academic_dataset_business.json'\n",
    "df_business = spark.read.json(path)"
   ]
  },
  {
   "cell_type": "code",
   "execution_count": 7,
   "id": "66bd856f",
   "metadata": {},
   "outputs": [],
   "source": [
    "#reading the user dataset and spilling on pyspark dataframe\n",
    "path = 'data/yelp_academic_dataset_user.json'\n",
    "df_user = spark.read.json(path)\n",
    "df_user = df_user.select('user_id', 'review_count')"
   ]
  },
  {
   "cell_type": "markdown",
   "id": "1a277670",
   "metadata": {},
   "source": [
    "### 1. filter the users with more than 10 reviews."
   ]
  },
  {
   "cell_type": "code",
   "execution_count": 8,
   "id": "82f3781d",
   "metadata": {},
   "outputs": [],
   "source": [
    "#filter the users with more than 10 review counts\n",
    "df_user = df_user.filter(col('review_count')>=10)"
   ]
  },
  {
   "cell_type": "code",
   "execution_count": 9,
   "id": "f12c5269",
   "metadata": {},
   "outputs": [],
   "source": [
    "#we need userId, businessId and ratings for ALS\n",
    "df_review = df_review[['user_id','business_id','stars']]"
   ]
  },
  {
   "cell_type": "code",
   "execution_count": 10,
   "id": "448c2526",
   "metadata": {},
   "outputs": [],
   "source": [
    "#Apply on review dataset\n",
    "df_review = df_review.join(df_user, df_review.user_id == df_user.user_id ,\"left_semi\")"
   ]
  },
  {
   "cell_type": "markdown",
   "id": "734809b5",
   "metadata": {},
   "source": [
    "### 2. Filter the restaurant businesses"
   ]
  },
  {
   "cell_type": "code",
   "execution_count": 11,
   "id": "104215a8",
   "metadata": {},
   "outputs": [],
   "source": [
    "#filter restaurant businesses \n",
    "df_business = df_business.filter(df_business.categories.contains('Restaurants'))"
   ]
  },
  {
   "cell_type": "code",
   "execution_count": 12,
   "id": "e4bc0327",
   "metadata": {},
   "outputs": [],
   "source": [
    "df_review = df_review.join(df_business[['business_id']], \n",
    "                             df_review.business_id == df_business.business_id ,\"left_semi\")"
   ]
  },
  {
   "cell_type": "code",
   "execution_count": 13,
   "id": "4734b013",
   "metadata": {},
   "outputs": [
    {
     "data": {
      "text/plain": [
       "480460"
      ]
     },
     "execution_count": 13,
     "metadata": {},
     "output_type": "execute_result"
    }
   ],
   "source": [
    "df_review.count()"
   ]
  },
  {
   "cell_type": "markdown",
   "id": "635b2131",
   "metadata": {},
   "source": [
    "Dropping out these two DataFrame to manage memory and speedup the process."
   ]
  },
  {
   "cell_type": "code",
   "execution_count": 14,
   "id": "97442bcc",
   "metadata": {},
   "outputs": [
    {
     "data": {
      "text/plain": [
       "DataFrame[user_id: string, review_count: bigint]"
      ]
     },
     "execution_count": 14,
     "metadata": {},
     "output_type": "execute_result"
    }
   ],
   "source": [
    "df_business.unpersist()\n",
    "df_user.unpersist()"
   ]
  },
  {
   "cell_type": "markdown",
   "id": "c3440d46",
   "metadata": {},
   "source": [
    "The following plot shows how ratings have been distributed among the descrete numbers."
   ]
  },
  {
   "cell_type": "code",
   "execution_count": 15,
   "id": "2865c9c1",
   "metadata": {},
   "outputs": [],
   "source": [
    "list_rating =  [row[0] for row in df_review.select('stars').collect()]"
   ]
  },
  {
   "cell_type": "code",
   "execution_count": 16,
   "id": "3c4bacd0",
   "metadata": {},
   "outputs": [
    {
     "data": {
      "text/plain": [
       "Text(0, 0.5, 'Number of each rate')"
      ]
     },
     "execution_count": 16,
     "metadata": {},
     "output_type": "execute_result"
    },
    {
     "data": {
      "image/png": "[encoded data removed]",
      "text/plain": [
       "<Figure size 720x432 with 1 Axes>"
      ]
     },
     "metadata": {
      "needs_background": "light"
     },
     "output_type": "display_data"
    }
   ],
   "source": [
    "fig = plt.figure(figsize=(10,6))\n",
    "plt.hist(list_rating, bins=[0.5,1.5,2.5,3.5,4.5,5.5], edgecolor='black')\n",
    "plt.title('Distribution of ratings among the users')\n",
    "plt.xlabel('Ratings')\n",
    "plt.ylabel('Number of each rate')"
   ]
  },
  {
   "cell_type": "markdown",
   "id": "1bf45f36",
   "metadata": {},
   "source": [
    "### 3. ALS works with user and business ID in numerical format.\n",
    "So here we are converting the user and business ID to the numerical format."
   ]
  },
  {
   "cell_type": "code",
   "execution_count": 17,
   "id": "48872418",
   "metadata": {},
   "outputs": [],
   "source": [
    "indexers = [StringIndexer(inputCol=column, outputCol=column+\"_index\").fit(df_review) \n",
    "            for column in list(set(df_review.columns)-set(['stars'])) ]\n",
    "\n",
    "\n",
    "pipeline = Pipeline(stages=indexers)\n",
    "df_review = pipeline.fit(df_review).transform(df_review)\n",
    "\n",
    "# df_review.show()"
   ]
  },
  {
   "cell_type": "code",
   "execution_count": 18,
   "id": "85a8c6e0",
   "metadata": {},
   "outputs": [
    {
     "name": "stdout",
     "output_type": "stream",
     "text": [
      "224501\n",
      "480460\n"
     ]
    }
   ],
   "source": [
    "print(df_review.select('user_id').distinct().count())\n",
    "print(df_review.select('user_id').count())"
   ]
  },
  {
   "cell_type": "markdown",
   "id": "0e7d3006",
   "metadata": {},
   "source": [
    "### Check RMSE and MAE when the prediction is global average"
   ]
  },
  {
   "cell_type": "code",
   "execution_count": 19,
   "id": "2993e734",
   "metadata": {},
   "outputs": [],
   "source": [
    "(df_train, df_test) = df_review.randomSplit([0.8, 0.2], seed=0)"
   ]
  },
  {
   "cell_type": "code",
   "execution_count": 20,
   "id": "f46daae3",
   "metadata": {},
   "outputs": [],
   "source": [
    "eval_rmse = RegressionEvaluator(metricName=\"rmse\", labelCol=\"stars\", predictionCol=\"glb_average\")\n",
    "eval_mae = RegressionEvaluator(metricName=\"mae\", labelCol=\"stars\", predictionCol=\"glb_average\")"
   ]
  },
  {
   "cell_type": "code",
   "execution_count": 21,
   "id": "db8a412c",
   "metadata": {},
   "outputs": [
    {
     "name": "stdout",
     "output_type": "stream",
     "text": [
      "RMSE for global average = 1.274\n",
      "MAE for global average = 1.023\n"
     ]
    }
   ],
   "source": [
    "glb_average = df_train.select(avg('stars')).collect()[0][0] \n",
    "df_test = df_test.withColumn('glb_average', lit(glb_average))\n",
    "rmse = eval_rmse.evaluate(df_test)\n",
    "mae = eval_mae.evaluate(df_test)\n",
    "print(\"RMSE for global average = %.3f\"%rmse)\n",
    "print(\"MAE for global average = %.3f\"%mae)"
   ]
  },
  {
   "cell_type": "markdown",
   "id": "538cba50",
   "metadata": {},
   "source": [
    "We use validation in training set to choose the best set of hyperparameters for the dataset. Then we apply the best set to test dataset."
   ]
  },
  {
   "cell_type": "code",
   "execution_count": 22,
   "id": "243e22e3",
   "metadata": {},
   "outputs": [],
   "source": [
    "eval_rmse = RegressionEvaluator(metricName=\"rmse\", labelCol=\"stars\", predictionCol=\"prediction\")\n",
    "eval_mae = RegressionEvaluator(metricName=\"mae\", labelCol=\"stars\", predictionCol=\"prediction\")"
   ]
  },
  {
   "cell_type": "code",
   "execution_count": 23,
   "id": "b890f368",
   "metadata": {},
   "outputs": [],
   "source": [
    "#create evaluator object\n",
    "maxIter = [17]\n",
    "regParam = [0.4,0.6]\n",
    "rank = [10,20,50]\n",
    "#create the als model\n",
    "als = ALS(userCol=\"user_id_index\", \n",
    "          itemCol=\"business_id_index\", \n",
    "          ratingCol=\"stars\",seed=0, nonnegative=True, coldStartStrategy=\"drop\")\n",
    "\n",
    "#we use a ParamGridBuilder to construct a grid of parameters to search over.\n",
    "#trainValidationSplit will try all combinations of values and determine best model using the evaluator.\n",
    "paramGrid = ParamGridBuilder()\\\n",
    "    .addGrid(als.regParam, regParam) \\\n",
    "    .addGrid(als.maxIter, maxIter)\\\n",
    "    .addGrid(als.rank, rank)\\\n",
    "    .build()\n",
    "\n",
    "#in this case the estimator is ALS.\n",
    "#a TrainValidationSplit requires an Estimator, a set of Estimator ParamMaps, and an Evaluator.\n",
    "tvs = TrainValidationSplit(estimator=als,\n",
    "                           estimatorParamMaps=paramGrid,\n",
    "                           evaluator=eval_rmse,\n",
    "                           # 80% of the data will be used for training, 20% for validation.\n",
    "                           trainRatio=0.8)\n",
    "\n",
    "# Run TrainValidationSplit, and choose the best set of parameters.\n",
    "model = tvs.fit(df_train)"
   ]
  },
  {
   "cell_type": "markdown",
   "id": "cc75524e",
   "metadata": {},
   "source": [
    "### RMSE and MAE when the predicition is done by the model"
   ]
  },
  {
   "cell_type": "code",
   "execution_count": 24,
   "id": "99d552cd",
   "metadata": {},
   "outputs": [
    {
     "name": "stdout",
     "output_type": "stream",
     "text": [
      "RMSE for the model = 1.498\n",
      "MAE for the model = 1.210\n"
     ]
    }
   ],
   "source": [
    "#make predictions on test data. model is the model with combination of parameters\n",
    "#that performed best.\n",
    "prediction = model.transform(df_test)\n",
    "rmse = eval_rmse.evaluate(prediction)\n",
    "mae = eval_mae.evaluate(prediction)\n",
    "print(\"RMSE for the model = %.3f\"%rmse)\n",
    "print(\"MAE for the model = %.3f\"%mae)"
   ]
  },
  {
   "cell_type": "markdown",
   "id": "006e69a6",
   "metadata": {},
   "source": [
    "### Create a bias model to improve the performance"
   ]
  },
  {
   "cell_type": "code",
   "execution_count": 33,
   "id": "0321a90d",
   "metadata": {},
   "outputs": [],
   "source": [
    "(df_train, df_test) = df_review.randomSplit([0.8, 0.2], seed=0)"
   ]
  },
  {
   "cell_type": "markdown",
   "id": "2b88da07",
   "metadata": {},
   "source": [
    "#### 1. Calculate the user average and business average stars"
   ]
  },
  {
   "cell_type": "code",
   "execution_count": 34,
   "id": "8d58e1c1",
   "metadata": {},
   "outputs": [],
   "source": [
    "#calculating the user average\n",
    "df_user_id = df_train.groupby('user_id').avg('stars').withColumnRenamed('user_id','user_id_')\n",
    "#calculating the buisiness average\n",
    "df_business_id = df_train.groupby('business_id').avg('stars').withColumnRenamed('business_id','business_id_')\n",
    "    \n",
    "df_train = df_train.join(df_user_id, df_train.user_id == df_user_id.user_id_, \n",
    "    how='inner').withColumnRenamed('avg(stars)','user_mean') #adding user_mean\n",
    "df_train = df_train.join(df_business_id, df_train.business_id == df_business_id.business_id_, \n",
    "    how='inner').withColumnRenamed('avg(stars)','business_mean')"
   ]
  },
  {
   "cell_type": "code",
   "execution_count": 35,
   "id": "7f343f51",
   "metadata": {},
   "outputs": [
    {
     "name": "stdout",
     "output_type": "stream",
     "text": [
      "+-----+-------------+-----------------+------------------+-----------------+\n",
      "|stars|user_id_index|business_id_index|         user_mean|    business_mean|\n",
      "+-----+-------------+-----------------+------------------+-----------------+\n",
      "|  5.0|     171714.0|           2663.0|               5.0|4.133333333333334|\n",
      "|  4.0|       6028.0|           2663.0|3.7777777777777777|4.133333333333334|\n",
      "|  5.0|       3214.0|           2663.0|             3.375|4.133333333333334|\n",
      "|  5.0|     103945.0|           2663.0|               5.0|4.133333333333334|\n",
      "|  5.0|       1493.0|           2663.0|4.2727272727272725|4.133333333333334|\n",
      "|  5.0|     202396.0|           2663.0|               5.0|4.133333333333334|\n",
      "|  5.0|      18078.0|           2663.0|               4.5|4.133333333333334|\n",
      "|  5.0|      25702.0|           2663.0|               5.0|4.133333333333334|\n",
      "|  5.0|      38824.0|           2663.0|               5.0|4.133333333333334|\n",
      "|  5.0|      32943.0|           2663.0| 4.666666666666667|4.133333333333334|\n",
      "|  5.0|      30453.0|           2663.0|3.6666666666666665|4.133333333333334|\n",
      "|  5.0|      16996.0|           2663.0|               4.5|4.133333333333334|\n",
      "|  5.0|      17801.0|           2663.0|               5.0|4.133333333333334|\n",
      "|  3.0|        463.0|           2663.0|3.8260869565217392|4.133333333333334|\n",
      "|  4.0|       4523.0|           2663.0| 4.444444444444445|4.133333333333334|\n",
      "|  5.0|      34313.0|           2663.0| 4.666666666666667|4.133333333333334|\n",
      "|  4.0|      10134.0|           2663.0|               4.4|4.133333333333334|\n",
      "|  5.0|     127167.0|           2663.0|               5.0|4.133333333333334|\n",
      "|  1.0|     162279.0|           2663.0|               1.0|4.133333333333334|\n",
      "|  5.0|       1879.0|           2663.0|               4.0|4.133333333333334|\n",
      "+-----+-------------+-----------------+------------------+-----------------+\n",
      "only showing top 20 rows\n",
      "\n"
     ]
    }
   ],
   "source": [
    "df_train = df_train.drop('user_id', 'business_id','user_id_' ,'business_id_')\n",
    "df_train.show()"
   ]
  },
  {
   "cell_type": "markdown",
   "id": "6bd73ac9",
   "metadata": {},
   "source": [
    "#### 2. Add a column called user item interaction which is calculated below: "
   ]
  },
  {
   "cell_type": "code",
   "execution_count": 36,
   "id": "8b50ed11",
   "metadata": {},
   "outputs": [
    {
     "name": "stdout",
     "output_type": "stream",
     "text": [
      "+-----+-------------+-----------------+------------------+-----------------+---------------------+\n",
      "|stars|user_id_index|business_id_index|         user_mean|    business_mean|user_item_interaction|\n",
      "+-----+-------------+-----------------+------------------+-----------------+---------------------+\n",
      "|  5.0|     171714.0|           2663.0|               5.0|4.133333333333334| -0.26587718545002215|\n",
      "|  4.0|       6028.0|           2663.0|3.7777777777777777|4.133333333333334| -0.04365496322780...|\n",
      "|  5.0|       3214.0|           2663.0|             3.375|4.133333333333334|    1.359122814549977|\n",
      "|  5.0|     103945.0|           2663.0|               5.0|4.133333333333334| -0.26587718545002215|\n",
      "|  5.0|       1493.0|           2663.0|4.2727272727272725|4.133333333333334|   0.4613955418227045|\n",
      "|  5.0|     202396.0|           2663.0|               5.0|4.133333333333334| -0.26587718545002215|\n",
      "|  5.0|      18078.0|           2663.0|               4.5|4.133333333333334|  0.23412281454997785|\n",
      "|  5.0|      25702.0|           2663.0|               5.0|4.133333333333334| -0.26587718545002215|\n",
      "|  5.0|      38824.0|           2663.0|               5.0|4.133333333333334| -0.26587718545002215|\n",
      "|  5.0|      32943.0|           2663.0| 4.666666666666667|4.133333333333334|     0.06745614788331|\n",
      "|  5.0|      30453.0|           2663.0|3.6666666666666665|4.133333333333334|     1.06745614788331|\n",
      "|  5.0|      16996.0|           2663.0|               4.5|4.133333333333334|  0.23412281454997785|\n",
      "|  5.0|      17801.0|           2663.0|               5.0|4.133333333333334| -0.26587718545002215|\n",
      "|  3.0|        463.0|           2663.0|3.8260869565217392|4.133333333333334|  -1.0919641419717623|\n",
      "|  4.0|       4523.0|           2663.0| 4.444444444444445|4.133333333333334|  -0.7103216298944686|\n",
      "|  5.0|      34313.0|           2663.0| 4.666666666666667|4.133333333333334|     0.06745614788331|\n",
      "|  4.0|      10134.0|           2663.0|               4.4|4.133333333333334|  -0.6658771854500243|\n",
      "|  5.0|     127167.0|           2663.0|               5.0|4.133333333333334| -0.26587718545002215|\n",
      "|  1.0|     162279.0|           2663.0|               1.0|4.133333333333334| -0.26587718545002303|\n",
      "|  5.0|       1879.0|           2663.0|               4.0|4.133333333333334|   0.7341228145499779|\n",
      "+-----+-------------+-----------------+------------------+-----------------+---------------------+\n",
      "only showing top 20 rows\n",
      "\n"
     ]
    }
   ],
   "source": [
    "df_train = df_train.withColumn('user_item_interaction', (col('stars')-(col('user_mean') + \n",
    "        col('business_mean') - glb_average)))\n",
    "df_train.show()"
   ]
  },
  {
   "cell_type": "markdown",
   "id": "7ba15daa",
   "metadata": {},
   "source": [
    "#### 3. Train the ALS model based on this new Column"
   ]
  },
  {
   "cell_type": "code",
   "execution_count": 37,
   "id": "ba7bf9cf",
   "metadata": {},
   "outputs": [],
   "source": [
    "eval_rmse = RegressionEvaluator(metricName=\"rmse\", labelCol=\"stars\", predictionCol=\"prediction\")\n",
    "eval_mae = RegressionEvaluator(metricName=\"mae\", labelCol=\"stars\", predictionCol=\"prediction\")\n",
    "#create evaluator object\n",
    "maxIter = [17]\n",
    "regParam = [0.4,0.6]\n",
    "rank = [10,20,50]\n",
    "#create the als model\n",
    "als = ALS(userCol=\"user_id_index\", \n",
    "          itemCol=\"business_id_index\", \n",
    "          ratingCol=\"user_item_interaction\",seed=0, nonnegative=True, coldStartStrategy=\"drop\")\n",
    "\n",
    "#we use a ParamGridBuilder to construct a grid of parameters to search over.\n",
    "#trainValidationSplit will try all combinations of values and determine best model using the evaluator.\n",
    "paramGrid = ParamGridBuilder()\\\n",
    "    .addGrid(als.regParam, regParam) \\\n",
    "    .addGrid(als.maxIter, maxIter)\\\n",
    "    .addGrid(als.rank, rank)\\\n",
    "    .build()\n",
    "\n",
    "#in this case the estimator is ALS.\n",
    "#a TrainValidationSplit requires an Estimator, a set of Estimator ParamMaps, and an Evaluator.\n",
    "tvs = TrainValidationSplit(estimator=als,\n",
    "                           estimatorParamMaps=paramGrid,\n",
    "                           evaluator=eval_rmse,\n",
    "                           # 80% of the data will be used for training, 20% for validation.\n",
    "                           trainRatio=0.8)\n",
    "\n",
    "# Run TrainValidationSplit, and choose the best set of parameters.\n",
    "model_biased = tvs.fit(df_train)\n",
    "prediction_biased = model_biased.transform(df_test)"
   ]
  },
  {
   "cell_type": "code",
   "execution_count": 38,
   "id": "2164b33c",
   "metadata": {},
   "outputs": [
    {
     "name": "stdout",
     "output_type": "stream",
     "text": [
      "+--------------------+--------------------+-----+-------------+-----------------+----------+\n",
      "|             user_id|         business_id|stars|user_id_index|business_id_index|prediction|\n",
      "+--------------------+--------------------+-----+-------------+-----------------+----------+\n",
      "|5QRQJNdt3p6E7FWR9...|EQ-TZ2eeD_E0BHuvo...|  2.0|        471.0|            148.0|       0.0|\n",
      "|2IICjXjdzTQYY38i8...|EQ-TZ2eeD_E0BHuvo...|  5.0|       1925.0|            148.0|       0.0|\n",
      "|ghr6YPp-X1HGHmXMJ...|EQ-TZ2eeD_E0BHuvo...|  5.0|      16467.0|            148.0|       0.0|\n",
      "|Jn-ChRlcLYSFvvpfu...|EQ-TZ2eeD_E0BHuvo...|  4.0|      14648.0|            148.0|       0.0|\n",
      "|sxsHfVBO43iiyYUaV...|EQ-TZ2eeD_E0BHuvo...|  3.0|        674.0|            148.0|       0.0|\n",
      "|a5Q6X78wxXUblX27Y...|EQ-TZ2eeD_E0BHuvo...|  3.0|       5971.0|            148.0|       0.0|\n",
      "|2-nj1SOp90Q7MAoMM...|EQ-TZ2eeD_E0BHuvo...|  5.0|      13321.0|            148.0|       0.0|\n",
      "|5yx5KugnfGqXpjaQr...|EQ-TZ2eeD_E0BHuvo...|  5.0|      28096.0|            148.0|       0.0|\n",
      "|Q7Homtd843hJ5TiRk...|EQ-TZ2eeD_E0BHuvo...|  3.0|      60242.0|            148.0|       0.0|\n",
      "|JGThqXcH7vrWJlvff...|EQ-TZ2eeD_E0BHuvo...|  4.0|       1756.0|            148.0|       0.0|\n",
      "|mj01fMve_NtaAXeqn...|EQ-TZ2eeD_E0BHuvo...|  3.0|      24495.0|            148.0|       0.0|\n",
      "|Bkw5BQNUhTDQpI-Gi...|EQ-TZ2eeD_E0BHuvo...|  4.0|      29624.0|            148.0|       0.0|\n",
      "|Unk0vlfw3QrPrslXn...|EQ-TZ2eeD_E0BHuvo...|  4.0|       5851.0|            148.0|       0.0|\n",
      "|y5rKMuVs378JhOFUf...|EQ-TZ2eeD_E0BHuvo...|  5.0|       5288.0|            148.0|       0.0|\n",
      "|Csa8IkQE6kfv9HD_J...|EQ-TZ2eeD_E0BHuvo...|  1.0|      29929.0|            148.0|       0.0|\n",
      "|xKrp4ynIKJ6UU7_nA...|EQ-TZ2eeD_E0BHuvo...|  5.0|      82198.0|            148.0|       0.0|\n",
      "|-0uKY1pQZBRwfiAWO...|EQ-TZ2eeD_E0BHuvo...|  5.0|      43121.0|            148.0|       0.0|\n",
      "|2y5ZDck1iyEVkwF6f...|EQ-TZ2eeD_E0BHuvo...|  5.0|      45600.0|            148.0|       0.0|\n",
      "|XUWoyjAdm4io5Fx_V...|EQ-TZ2eeD_E0BHuvo...|  5.0|      64968.0|            148.0|       0.0|\n",
      "|SyX4Hq0P-PvG18I5B...|EQ-TZ2eeD_E0BHuvo...|  5.0|      62166.0|            148.0|       0.0|\n",
      "+--------------------+--------------------+-----+-------------+-----------------+----------+\n",
      "only showing top 20 rows\n",
      "\n"
     ]
    }
   ],
   "source": [
    "prediction_biased.show()"
   ]
  },
  {
   "cell_type": "code",
   "execution_count": 39,
   "id": "7f8d69af",
   "metadata": {},
   "outputs": [],
   "source": [
    "prediction_biased = prediction_biased.join(df_user_id, prediction_biased.user_id == df_user_id.user_id_, \n",
    "    how='inner').withColumnRenamed('avg(stars)','user_mean') #adding user_mean\n",
    "prediction_biased = prediction_biased.join(df_business_id, prediction_biased.business_id == df_business_id.business_id_, \n",
    "    how='inner').withColumnRenamed('avg(stars)','business_mean')"
   ]
  },
  {
   "cell_type": "code",
   "execution_count": 40,
   "id": "4c258262",
   "metadata": {},
   "outputs": [
    {
     "name": "stdout",
     "output_type": "stream",
     "text": [
      "+-----+-------------+-----------------+------------+------------------+------------------+---------------------+\n",
      "|stars|user_id_index|business_id_index|  prediction|         user_mean|     business_mean|user_item_interaction|\n",
      "+-----+-------------+-----------------+------------+------------------+------------------+---------------------+\n",
      "|  2.0|       7627.0|           2663.0|5.0757088E-5| 4.666666666666667| 4.133333333333334|   4.9325946092042825|\n",
      "|  5.0|      74619.0|           2663.0|         0.0|               3.0| 4.133333333333334|    3.265877185450023|\n",
      "|  2.0|       2302.0|          13941.0|  0.14324741|2.6666666666666665|               3.5|    2.442457929438377|\n",
      "|  3.0|      28768.0|          11622.0|         0.0|               5.0|1.3333333333333333|   2.4658771854500223|\n",
      "|  5.0|       8915.0|          19341.0|         0.0|               4.4|              4.25|     4.78254385211669|\n",
      "|  1.0|       1098.0|           1078.0|         0.0|3.7142857142857144| 3.847826086956522|    3.694655653358926|\n",
      "|  3.0|      45823.0|           1078.0|         0.0|               4.0| 3.847826086956522|    3.980369939073211|\n",
      "|  3.0|      27428.0|           1078.0|         0.0|               5.0| 3.847826086956522|    4.980369939073211|\n",
      "|  3.0|       2282.0|           1078.0|1.8650541E-4|               4.0| 3.847826086956522|   3.9805564444805386|\n",
      "|  5.0|      21799.0|           1078.0|         0.0|               4.5| 3.847826086956522|    4.480369939073211|\n",
      "|  3.0|      75806.0|           1078.0|         0.0|               5.0| 3.847826086956522|    4.980369939073211|\n",
      "|  2.0|      72751.0|          29964.0| 9.648353E-5|               4.0|               1.0|   1.1326403356438481|\n",
      "|  5.0|      11017.0|           5717.0|         0.0|               4.5|               4.5|    5.132543852116689|\n",
      "|  5.0|      54895.0|           5717.0|         0.0|               5.0|               4.5|    5.632543852116689|\n",
      "|  1.0|      25767.0|           5717.0|         0.0|               3.0|               4.5|   3.6325438521166893|\n",
      "|  5.0|       3124.0|          11648.0| 0.016181985|               3.9|             3.875|    3.923725837033019|\n",
      "|  4.0|       1157.0|          11648.0| 9.375709E-4|4.0588235294117645|             3.875|     4.06730495240443|\n",
      "|  5.0|       1146.0|            776.0|2.9508997E-4| 3.764705882352941| 4.111111111111111|    4.008655935545962|\n",
      "|  5.0|      75534.0|            776.0|         0.0|               5.0| 4.111111111111111|      5.2436549632278|\n",
      "|  5.0|       6022.0|            776.0|0.0062302756| 4.142857142857143| 4.111111111111111|    4.392742381697267|\n",
      "+-----+-------------+-----------------+------------+------------------+------------------+---------------------+\n",
      "only showing top 20 rows\n",
      "\n"
     ]
    }
   ],
   "source": [
    "prediction_biased = prediction_biased.drop('user_id', 'business_id','user_id_' ,'business_id_')\n",
    "prediction_biased = prediction_biased.withColumn('user_item_interaction', (col('prediction')+col('user_mean') + \n",
    "    col('business_mean') - glb_average))\n",
    "prediction_biased.show()"
   ]
  },
  {
   "cell_type": "markdown",
   "id": "467fe579",
   "metadata": {},
   "source": [
    "#### 4. Calculate the RMSE for the test set"
   ]
  },
  {
   "cell_type": "code",
   "execution_count": 41,
   "id": "42de9894",
   "metadata": {},
   "outputs": [
    {
     "name": "stdout",
     "output_type": "stream",
     "text": [
      "RMSE for the model = 1.377\n",
      "MAE for the model = 1.032\n"
     ]
    }
   ],
   "source": [
    "eval_rmse = RegressionEvaluator(metricName=\"rmse\", labelCol=\"stars\", predictionCol=\"user_item_interaction\")\n",
    "eval_mae = RegressionEvaluator(metricName=\"mae\", labelCol=\"stars\", predictionCol=\"user_item_interaction\")\n",
    "rmse = eval_rmse.evaluate(prediction_biased)\n",
    "mae = eval_mae.evaluate(prediction_biased)\n",
    "print(\"RMSE for the model = %.3f\"%rmse)\n",
    "print(\"MAE for the model = %.3f\"%mae)"
   ]
  },
  {
   "cell_type": "markdown",
   "id": "291147bb",
   "metadata": {},
   "source": [
    "As it can be seen, the RMSE and MAE for the biased model improved the performance of the normal model, however, the error of trained model are still higher than prediction with average stars."
   ]
  }
 ],
 "metadata": {
  "kernelspec": {
   "display_name": "Python 3 (ipykernel)",
   "language": "python",
   "name": "python3"
  },
  "language_info": {
   "codemirror_mode": {
    "name": "ipython",
    "version": 3
   },
   "file_extension": ".py",
   "mimetype": "text/x-python",
   "name": "python",
   "nbconvert_exporter": "python",
   "pygments_lexer": "ipython3",
   "version": "3.8.0"
  }
 },
 "nbformat": 4,
 "nbformat_minor": 5
}
