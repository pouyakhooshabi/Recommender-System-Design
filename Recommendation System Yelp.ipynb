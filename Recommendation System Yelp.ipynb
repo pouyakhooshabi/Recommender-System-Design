{
 "cells": [
  {
   "cell_type": "code",
   "execution_count": 15,
   "metadata": {},
   "outputs": [],
   "source": [
    "# Importing files\n",
    "import csv\n",
    "import os\n",
    "import sys\n",
    "# Spark imports\n",
    "from pyspark.rdd import RDD\n",
    "from pyspark.sql import DataFrame\n",
    "from pyspark.sql import SparkSession\n",
    "from pyspark.sql.functions import desc\n",
    "from pyspark.sql.functions import col, asc, desc\n",
    "\n",
    "from pyspark.sql.functions import array_contains # used to check if the array has a value"
   ]
  },
  {
   "cell_type": "code",
   "execution_count": 2,
   "metadata": {},
   "outputs": [],
   "source": [
    "# Initialize a spark session.\n",
    "def init_spark():\n",
    "    spark = SparkSession \\\n",
    "        .builder \\\n",
    "        .appName(\"Python Spark SQL basic example\") \\\n",
    "        .config(\"spark.some.config.option\", \"some-value\") \\\n",
    "        .getOrCreate()\n",
    "    return spark"
   ]
  },
  {
   "cell_type": "code",
   "execution_count": 3,
   "metadata": {},
   "outputs": [],
   "source": [
    "# BUSINESS"
   ]
  },
  {
   "cell_type": "code",
   "execution_count": 4,
   "metadata": {},
   "outputs": [],
   "source": [
    "spark = init_spark() # Initializate spark"
   ]
  },
  {
   "cell_type": "code",
   "execution_count": 5,
   "metadata": {},
   "outputs": [],
   "source": [
    "path = 'data/yelp_academic_dataset_business.json'\n",
    "df_business = spark.read.json(path)"
   ]
  },
  {
   "cell_type": "code",
   "execution_count": 6,
   "metadata": {},
   "outputs": [
    {
     "name": "stdout",
     "output_type": "stream",
     "text": [
      "(150346, 14)\n"
     ]
    }
   ],
   "source": [
    "# Print the number of rows and columns\n",
    "print((df_business.count(), len(df_business.columns)))"
   ]
  },
  {
   "cell_type": "code",
   "execution_count": 7,
   "metadata": {},
   "outputs": [
    {
     "data": {
      "text/plain": [
       "['address',\n",
       " 'attributes',\n",
       " 'business_id',\n",
       " 'categories',\n",
       " 'city',\n",
       " 'hours',\n",
       " 'is_open',\n",
       " 'latitude',\n",
       " 'longitude',\n",
       " 'name',\n",
       " 'postal_code',\n",
       " 'review_count',\n",
       " 'stars',\n",
       " 'state']"
      ]
     },
     "execution_count": 7,
     "metadata": {},
     "output_type": "execute_result"
    }
   ],
   "source": [
    "#Printing the columns\n",
    "df_business.columns"
   ]
  },
  {
   "cell_type": "code",
   "execution_count": 51,
   "metadata": {},
   "outputs": [
    {
     "data": {
      "text/plain": [
       "[('address', 'string'),\n",
       " ('attributes',\n",
       "  'struct<AcceptsInsurance:string,AgesAllowed:string,Alcohol:string,Ambience:string,BYOB:string,BYOBCorkage:string,BestNights:string,BikeParking:string,BusinessAcceptsBitcoin:string,BusinessAcceptsCreditCards:string,BusinessParking:string,ByAppointmentOnly:string,Caters:string,CoatCheck:string,Corkage:string,DietaryRestrictions:string,DogsAllowed:string,DriveThru:string,GoodForDancing:string,GoodForKids:string,GoodForMeal:string,HairSpecializesIn:string,HappyHour:string,HasTV:string,Music:string,NoiseLevel:string,Open24Hours:string,OutdoorSeating:string,RestaurantsAttire:string,RestaurantsCounterService:string,RestaurantsDelivery:string,RestaurantsGoodForGroups:string,RestaurantsPriceRange2:string,RestaurantsReservations:string,RestaurantsTableService:string,RestaurantsTakeOut:string,Smoking:string,WheelchairAccessible:string,WiFi:string>'),\n",
       " ('business_id', 'string'),\n",
       " ('categories', 'string'),\n",
       " ('city', 'string'),\n",
       " ('hours',\n",
       "  'struct<Friday:string,Monday:string,Saturday:string,Sunday:string,Thursday:string,Tuesday:string,Wednesday:string>'),\n",
       " ('is_open', 'bigint'),\n",
       " ('latitude', 'double'),\n",
       " ('longitude', 'double'),\n",
       " ('name', 'string'),\n",
       " ('postal_code', 'string'),\n",
       " ('review_count', 'bigint'),\n",
       " ('stars', 'double'),\n",
       " ('state', 'string')]"
      ]
     },
     "execution_count": 51,
     "metadata": {},
     "output_type": "execute_result"
    }
   ],
   "source": [
    "df_business.dtypes"
   ]
  },
  {
   "cell_type": "code",
   "execution_count": 8,
   "metadata": {},
   "outputs": [
    {
     "name": "stdout",
     "output_type": "stream",
     "text": [
      "address 0\n",
      "attributes 13744\n",
      "business_id 0\n",
      "categories 103\n",
      "city 0\n",
      "hours 23223\n",
      "is_open 0\n",
      "latitude 0\n",
      "longitude 0\n",
      "name 0\n",
      "postal_code 0\n",
      "review_count 0\n",
      "stars 0\n",
      "state 0\n"
     ]
    }
   ],
   "source": [
    "# Printing how many Null files each categorie have\n",
    "for i in df_business.columns:\n",
    "    print(i, df_business.filter(col(i).isNull()).count())"
   ]
  },
  {
   "cell_type": "code",
   "execution_count": 21,
   "metadata": {},
   "outputs": [
    {
     "name": "stdout",
     "output_type": "stream",
     "text": [
      "+----------------------------------------------------------------------------------------------------------+\n",
      "|categories                                                                                                |\n",
      "+----------------------------------------------------------------------------------------------------------+\n",
      "|Doctors, Traditional Chinese Medicine, Naturopathic/Holistic, Acupuncture, Health & Medical, Nutritionists|\n",
      "|Shipping Centers, Local Services, Notaries, Mailbox Centers, Printing Services                            |\n",
      "|Department Stores, Shopping, Fashion, Home & Garden, Electronics, Furniture Stores                        |\n",
      "|Restaurants, Food, Bubble Tea, Coffee & Tea, Bakeries                                                     |\n",
      "|Brewpubs, Breweries, Food                                                                                 |\n",
      "|Burgers, Fast Food, Sandwiches, Food, Ice Cream & Frozen Yogurt, Restaurants                              |\n",
      "|Sporting Goods, Fashion, Shoe Stores, Shopping, Sports Wear, Accessories                                  |\n",
      "|Synagogues, Religious Organizations                                                                       |\n",
      "|Pubs, Restaurants, Italian, Bars, American (Traditional), Nightlife, Greek                                |\n",
      "|Ice Cream & Frozen Yogurt, Fast Food, Burgers, Restaurants, Food                                          |\n",
      "|Department Stores, Shopping, Fashion                                                                      |\n",
      "|Vietnamese, Food, Restaurants, Food Trucks                                                                |\n",
      "|American (Traditional), Restaurants, Diners, Breakfast & Brunch                                           |\n",
      "|General Dentistry, Dentists, Health & Medical, Cosmetic Dentists                                          |\n",
      "|Food, Delis, Italian, Bakeries, Restaurants                                                               |\n",
      "|Sushi Bars, Restaurants, Japanese                                                                         |\n",
      "|Automotive, Auto Parts & Supplies, Auto Customization                                                     |\n",
      "|Vape Shops, Tobacco Shops, Personal Shopping, Vitamins & Supplements, Shopping                            |\n",
      "|Automotive, Car Rental, Hotels & Travel, Truck Rental                                                     |\n",
      "|Korean, Restaurants                                                                                       |\n",
      "|Coffee & Tea, Food, Cafes, Bars, Wine Bars, Restaurants, Nightlife                                        |\n",
      "|Shopping, Books, Mags, Music & Video, Bookstores                                                          |\n",
      "|Steakhouses, Asian Fusion, Restaurants                                                                    |\n",
      "|Restaurants, Italian                                                                                      |\n",
      "|Hot Dogs, Restaurants                                                                                     |\n",
      "+----------------------------------------------------------------------------------------------------------+\n",
      "only showing top 25 rows\n",
      "\n"
     ]
    }
   ],
   "source": [
    "#df_business.select(\"city\").distinct().sort(\"city\").show(200) # Printing the states in the dataset\n",
    "\n",
    "#df_business.filter(df_business.latitude >= 43.0).select('state').distinct().show()\n",
    "#df_business.show(1) # Printing the states in the dataset\n",
    "#df_business.select(\"state\").distinct().show(100) # Printing the states in the dataset\n",
    "#df_business.filter(df_business.city == \"Chicago\").count()  # Couting samples of this city\n",
    "\n",
    "df_business.select(\"categories\").show(25, False) # Printing the categories in the dataset for the first 25 instances"
   ]
  },
  {
   "cell_type": "code",
   "execution_count": 63,
   "metadata": {},
   "outputs": [
    {
     "name": "stdout",
     "output_type": "stream",
     "text": [
      "+---------------------------------------------------------------------------------------------------------------------------------------------------------------------------------------------------------------------------------------------------------------------------------------------------------------------------------------------------------------------------------------------------------------------------------------------------------------------------------------------------------+\n",
      "|attributes                                                                                                                                                                                                                                                                                                                                                                                                                                                                                               |\n",
      "+---------------------------------------------------------------------------------------------------------------------------------------------------------------------------------------------------------------------------------------------------------------------------------------------------------------------------------------------------------------------------------------------------------------------------------------------------------------------------------------------------------+\n",
      "|{null, null, null, null, null, null, null, null, null, null, null, True, null, null, null, null, null, null, null, null, null, null, null, null, null, null, null, null, null, null, null, null, null, null, null, null, null, null, null}                                                                                                                                                                                                                                                               |\n",
      "|{null, null, null, null, null, null, null, null, null, True, null, null, null, null, null, null, null, null, null, null, null, null, null, null, null, null, null, null, null, null, null, null, null, null, null, null, null, null, null}                                                                                                                                                                                                                                                               |\n",
      "|{null, null, null, null, null, null, null, True, null, True, {'garage': False, 'street': False, 'validated': False, 'lot': True, 'valet': False}, False, False, False, null, null, False, null, null, null, null, null, False, False, null, null, null, False, null, null, False, null, 2, False, null, False, null, True, u'no'}                                                                                                                                                                        |\n",
      "|{null, null, u'none', null, null, null, null, True, null, False, {'garage': False, 'street': True, 'validated': False, 'lot': False, 'valet': False}, False, True, null, null, null, null, null, null, null, null, null, null, null, null, null, null, False, null, null, False, null, 1, null, null, True, null, null, u'free'}                                                                                                                                                                         |\n",
      "|{null, null, null, null, null, null, null, True, null, True, {'garage': None, 'street': None, 'validated': None, 'lot': True, 'valet': False}, null, False, null, null, null, null, null, null, True, null, null, null, null, null, null, null, null, null, null, null, null, null, null, null, True, null, True, null}                                                                                                                                                                                  |\n",
      "|{null, null, u'none', None, null, null, null, False, null, True, None, False, False, False, null, null, False, True, null, True, null, null, False, True, null, null, null, True, u'casual', null, True, True, 1, False, False, True, null, True, u'no'}                                                                                                                                                                                                                                                 |\n",
      "|{null, null, null, null, null, null, null, True, null, True, {'garage': False, 'street': False, 'validated': False, 'lot': True, 'valet': False}, null, null, null, null, null, null, null, null, null, null, null, null, null, null, null, null, null, null, null, null, null, 2, null, null, null, null, null, null}                                                                                                                                                                                   |\n",
      "|null                                                                                                                                                                                                                                                                                                                                                                                                                                                                                                     |\n",
      "|{null, null, u'full_bar', {'romantic': False, 'intimate': False, 'touristy': False, 'hipster': False, 'divey': False, 'classy': False, 'trendy': False, 'upscale': False, 'casual': False}, null, null, null, null, null, True, {'garage': False, 'street': False, 'validated': False, 'lot': True, 'valet': False}, null, True, null, null, null, null, null, null, True, null, null, null, True, null, u'average', null, True, u'casual', null, False, True, 1, False, null, True, null, null, u'free'}|\n",
      "|{null, null, u'none', null, null, null, null, null, null, True, {'garage': False, 'street': False, 'validated': False, 'lot': False, 'valet': False}, False, False, False, null, null, False, True, null, True, null, null, False, True, null, null, null, True, 'casual', null, True, False, 1, False, False, True, null, True, u'no'}                                                                                                                                                                  |\n",
      "+---------------------------------------------------------------------------------------------------------------------------------------------------------------------------------------------------------------------------------------------------------------------------------------------------------------------------------------------------------------------------------------------------------------------------------------------------------------------------------------------------------+\n",
      "only showing top 10 rows\n",
      "\n"
     ]
    }
   ],
   "source": [
    "df_business.select(\"attributes\").show(10, False) # Printing the categories in the dataset for the first 25 instances"
   ]
  },
  {
   "cell_type": "code",
   "execution_count": 54,
   "metadata": {},
   "outputs": [],
   "source": [
    "#df_business_filtered = df_business.where(array_contains(col(\"categories\"),\"Restaurants\"))\n",
    "df_business_filtered = df_business.filter(df_business.categories.contains('Restaurants'))"
   ]
  },
  {
   "cell_type": "code",
   "execution_count": 55,
   "metadata": {},
   "outputs": [
    {
     "name": "stdout",
     "output_type": "stream",
     "text": [
      "(52268, 14)\n"
     ]
    }
   ],
   "source": [
    "# Print the number of rows and columns of the dataframe filtered\n",
    "print((df_business_filtered.count(), len(df_business_filtered.columns)))"
   ]
  },
  {
   "cell_type": "code",
   "execution_count": 57,
   "metadata": {},
   "outputs": [
    {
     "name": "stdout",
     "output_type": "stream",
     "text": [
      "+-----------------------------------------------------------------------------------------------------------------------------------------------------------+\n",
      "|categories                                                                                                                                                 |\n",
      "+-----------------------------------------------------------------------------------------------------------------------------------------------------------+\n",
      "|Restaurants, Food, Bubble Tea, Coffee & Tea, Bakeries                                                                                                      |\n",
      "|Burgers, Fast Food, Sandwiches, Food, Ice Cream & Frozen Yogurt, Restaurants                                                                               |\n",
      "|Pubs, Restaurants, Italian, Bars, American (Traditional), Nightlife, Greek                                                                                 |\n",
      "|Ice Cream & Frozen Yogurt, Fast Food, Burgers, Restaurants, Food                                                                                           |\n",
      "|Vietnamese, Food, Restaurants, Food Trucks                                                                                                                 |\n",
      "|American (Traditional), Restaurants, Diners, Breakfast & Brunch                                                                                            |\n",
      "|Food, Delis, Italian, Bakeries, Restaurants                                                                                                                |\n",
      "|Sushi Bars, Restaurants, Japanese                                                                                                                          |\n",
      "|Korean, Restaurants                                                                                                                                        |\n",
      "|Coffee & Tea, Food, Cafes, Bars, Wine Bars, Restaurants, Nightlife                                                                                         |\n",
      "|Steakhouses, Asian Fusion, Restaurants                                                                                                                     |\n",
      "|Restaurants, Italian                                                                                                                                       |\n",
      "|Hot Dogs, Restaurants                                                                                                                                      |\n",
      "|Restaurants, Japanese, Seafood                                                                                                                             |\n",
      "|Cocktail Bars, Bars, Italian, Nightlife, Restaurants                                                                                                       |\n",
      "|Pizza, Chicken Wings, Sandwiches, Restaurants                                                                                                              |\n",
      "|Pizza, Restaurants, Salad, Soup                                                                                                                            |\n",
      "|Pizza, Restaurants                                                                                                                                         |\n",
      "|Eatertainment, Arts & Entertainment, Brewpubs, American (Traditional), Bakeries, Breweries, Food, Restaurants                                              |\n",
      "|Restaurants, Burgers                                                                                                                                       |\n",
      "|Restaurants, Specialty Food, Steakhouses, Food, Italian, Pizza, Pasta Shops                                                                                |\n",
      "|Restaurants, Chinese                                                                                                                                       |\n",
      "|Coffee & Tea, Restaurants, Wine Bars, Bars, Nightlife, American (Traditional), Event Planning & Services, Food, Caterers, Breakfast & Brunch, Cafes, Diners|\n",
      "|Restaurants, Italian                                                                                                                                       |\n",
      "|Coffee & Tea, Cafes, Pets, Restaurants, Pet Adoption, Food                                                                                                 |\n",
      "+-----------------------------------------------------------------------------------------------------------------------------------------------------------+\n",
      "only showing top 25 rows\n",
      "\n"
     ]
    }
   ],
   "source": [
    "# Checking if the filtering is working properly\n",
    "df_business_filtered.select(\"categories\").show(25, False) # Printing the categories in the dataset for the first 25 instances"
   ]
  },
  {
   "cell_type": "code",
   "execution_count": null,
   "metadata": {},
   "outputs": [],
   "source": []
  },
  {
   "cell_type": "code",
   "execution_count": null,
   "metadata": {},
   "outputs": [],
   "source": [
    "###############\n",
    "## USER FILE ##\n",
    "###############"
   ]
  },
  {
   "cell_type": "code",
   "execution_count": 66,
   "metadata": {},
   "outputs": [],
   "source": [
    "path = 'data/yelp_academic_dataset_user.json'\n",
    "df_user = spark.read.json(path)"
   ]
  },
  {
   "cell_type": "code",
   "execution_count": 68,
   "metadata": {},
   "outputs": [
    {
     "name": "stdout",
     "output_type": "stream",
     "text": [
      "(1987897, 22)\n"
     ]
    }
   ],
   "source": [
    "# Print the number of rows and columns\n",
    "print((df_user.count(), len(df_user.columns)))"
   ]
  },
  {
   "cell_type": "code",
   "execution_count": 69,
   "metadata": {},
   "outputs": [
    {
     "data": {
      "text/plain": [
       "['average_stars',\n",
       " 'compliment_cool',\n",
       " 'compliment_cute',\n",
       " 'compliment_funny',\n",
       " 'compliment_hot',\n",
       " 'compliment_list',\n",
       " 'compliment_more',\n",
       " 'compliment_note',\n",
       " 'compliment_photos',\n",
       " 'compliment_plain',\n",
       " 'compliment_profile',\n",
       " 'compliment_writer',\n",
       " 'cool',\n",
       " 'elite',\n",
       " 'fans',\n",
       " 'friends',\n",
       " 'funny',\n",
       " 'name',\n",
       " 'review_count',\n",
       " 'useful',\n",
       " 'user_id',\n",
       " 'yelping_since']"
      ]
     },
     "execution_count": 69,
     "metadata": {},
     "output_type": "execute_result"
    }
   ],
   "source": [
    "#Printing the columns\n",
    "df_user.columns"
   ]
  },
  {
   "cell_type": "code",
   "execution_count": 88,
   "metadata": {},
   "outputs": [
    {
     "name": "stdout",
     "output_type": "stream",
     "text": [
      "average_stars 0\n",
      "compliment_cool 0\n",
      "compliment_cute 0\n",
      "compliment_funny 0\n",
      "compliment_hot 0\n",
      "compliment_list 0\n",
      "compliment_more 0\n",
      "compliment_note 0\n",
      "compliment_photos 0\n",
      "compliment_plain 0\n",
      "compliment_profile 0\n",
      "compliment_writer 0\n",
      "cool 0\n",
      "elite 0\n",
      "fans 0\n",
      "friends 0\n",
      "funny 0\n",
      "name 0\n",
      "review_count 0\n",
      "useful 0\n",
      "user_id 0\n",
      "yelping_since 0\n"
     ]
    }
   ],
   "source": [
    "# Printing how many Null files each categorie have\n",
    "for i in df_user.columns:\n",
    "    print(i, df_user.filter(col(i).isNull()).count())"
   ]
  },
  {
   "cell_type": "code",
   "execution_count": null,
   "metadata": {},
   "outputs": [],
   "source": [
    "#################\n",
    "## REVIEW FILE ##\n",
    "#################"
   ]
  },
  {
   "cell_type": "code",
   "execution_count": 70,
   "metadata": {},
   "outputs": [],
   "source": [
    "path = 'data/yelp_academic_dataset_review.json'\n",
    "df_review = spark.read.json(path)"
   ]
  },
  {
   "cell_type": "code",
   "execution_count": 71,
   "metadata": {},
   "outputs": [
    {
     "name": "stdout",
     "output_type": "stream",
     "text": [
      "(6990280, 9)\n"
     ]
    }
   ],
   "source": [
    "# Print the number of rows and columns\n",
    "print((df_review.count(), len(df_review.columns)))"
   ]
  },
  {
   "cell_type": "code",
   "execution_count": 72,
   "metadata": {},
   "outputs": [
    {
     "data": {
      "text/plain": [
       "['business_id',\n",
       " 'cool',\n",
       " 'date',\n",
       " 'funny',\n",
       " 'review_id',\n",
       " 'stars',\n",
       " 'text',\n",
       " 'useful',\n",
       " 'user_id']"
      ]
     },
     "execution_count": 72,
     "metadata": {},
     "output_type": "execute_result"
    }
   ],
   "source": [
    "#Printing the columns\n",
    "df_review.columns"
   ]
  },
  {
   "cell_type": "code",
   "execution_count": 89,
   "metadata": {},
   "outputs": [
    {
     "name": "stdout",
     "output_type": "stream",
     "text": [
      "business_id 0\n",
      "cool 0\n",
      "date 0\n",
      "funny 0\n",
      "review_id 0\n",
      "stars 0\n",
      "text 0\n",
      "useful 0\n",
      "user_id 0\n"
     ]
    }
   ],
   "source": [
    "# Printing how many Null files each categorie have\n",
    "for i in df_review.columns:\n",
    "    print(i, df_review.filter(col(i).isNull()).count())"
   ]
  }
 ],
 "metadata": {
  "kernelspec": {
   "display_name": "Python 3",
   "language": "python",
   "name": "python3"
  },
  "language_info": {
   "codemirror_mode": {
    "name": "ipython",
    "version": 3
   },
   "file_extension": ".py",
   "mimetype": "text/x-python",
   "name": "python",
   "nbconvert_exporter": "python",
   "pygments_lexer": "ipython3",
   "version": "3.7.0"
  }
 },
 "nbformat": 4,
 "nbformat_minor": 2
}
